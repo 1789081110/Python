/*create a class called Node for */
class Node:
/*define a constructor for adding the data*/
    def __init__(self,data):
        self.data=data
        self.next=None
/* create another class to add data to the linked list*/
class Linked:
    def __init__(self):
        self.head=None
/* create a method for adding new data inside the linkedlist*/
    def insert(self,new):
        if self.head is None:
            self.head=new
        else:
            last=self.head
/* set a constraint if the node is empty then add the new data as head*/               
            while True:
                if last.next is None:
                    break
                last=last.next    
            last.next=new
 /* create a method for printing the output*/
    def prnt(self):
        current=self.head
        while True:
            if current is None:
                break
            print(current.data)
            current=current.next
            
            
first=Node("VK")
second=Node("SK")
list=Linked()
list.insert(first)
list.insert(second)
list.prnt()


#Output:
#VK
#SK
