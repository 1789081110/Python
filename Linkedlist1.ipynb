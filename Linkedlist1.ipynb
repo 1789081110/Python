class Node:
    def __init__(self,data):
        self.data=data
        self.next=None
class Linked:
    def __init__(self):
        self.head=None
    def insert(self,new):
        if self.head is None:
            self.head=new
        else:
            last=self.head
            while True:
                if last.next is None:
                    break
                last=last.next    
            last.next=new
    def prnt(self):
        current=self.head
        while True:
            if current is None:
                break
            print(current.data)
            current=current.next
            
            
first=Node("VK")
second=Node("SK")
list=Linked()
list.insert(first)
list.insert(second)
list.prnt()
